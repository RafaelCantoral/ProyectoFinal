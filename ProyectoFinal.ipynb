{
 "cells": [
  {
   "cell_type": "markdown",
   "metadata": {},
   "source": [
    "![logo](https://eventos.galileo.edu/images/logo-noslogan.png)"
   ]
  },
  {
   "cell_type": "markdown",
   "metadata": {},
   "source": [
    "### Postgrado en Analisis y Prediccion de Datos"
   ]
  },
  {
   "cell_type": "markdown",
   "metadata": {},
   "source": [
    "# *Curso*: Ciencia de Datos en Python"
   ]
  },
  {
   "cell_type": "markdown",
   "metadata": {},
   "source": [
    "![title](imagenproyecto.png)"
   ]
  },
  {
   "cell_type": "markdown",
   "metadata": {},
   "source": [
    "---"
   ]
  },
  {
   "cell_type": "markdown",
   "metadata": {},
   "source": [
    "![title](paso1.png)"
   ]
  },
  {
   "cell_type": "code",
   "execution_count": 228,
   "metadata": {},
   "outputs": [],
   "source": [
    "import numpy as np\n",
    "import pandas as pd\n",
    "from matplotlib import pyplot as plt\n",
    "import seaborn as sns\n",
    "import sklearn\n"
   ]
  },
  {
   "cell_type": "markdown",
   "metadata": {},
   "source": [
    "---"
   ]
  },
  {
   "cell_type": "markdown",
   "metadata": {},
   "source": [
    "![title](paso2.png)"
   ]
  },
  {
   "cell_type": "code",
   "execution_count": 161,
   "metadata": {},
   "outputs": [],
   "source": [
    "# Carga de datos usando la función \"Load\" the NumPy\n",
    "\n",
    "setOriginal = np.load('proyecto_training_data.npy')"
   ]
  },
  {
   "cell_type": "code",
   "execution_count": 162,
   "metadata": {},
   "outputs": [
    {
     "data": {
      "text/plain": [
       "array([[2.08500e+05, 7.00000e+00, 8.56000e+02, 8.00000e+00, 2.00300e+03,\n",
       "        6.50000e+01],\n",
       "       [1.81500e+05, 6.00000e+00, 1.26200e+03, 6.00000e+00, 1.97600e+03,\n",
       "        8.00000e+01],\n",
       "       [2.23500e+05, 7.00000e+00, 9.20000e+02, 6.00000e+00, 2.00100e+03,\n",
       "        6.80000e+01],\n",
       "       ...,\n",
       "       [2.66500e+05, 7.00000e+00, 1.18800e+03, 9.00000e+00, 1.94100e+03,\n",
       "        6.60000e+01],\n",
       "       [1.42125e+05, 5.00000e+00, 1.07800e+03, 5.00000e+00, 1.95000e+03,\n",
       "        6.80000e+01],\n",
       "       [1.47500e+05, 5.00000e+00, 1.25600e+03, 6.00000e+00, 1.96500e+03,\n",
       "        7.50000e+01]])"
      ]
     },
     "execution_count": 162,
     "metadata": {},
     "output_type": "execute_result"
    }
   ],
   "source": [
    "setOriginal"
   ]
  },
  {
   "cell_type": "code",
   "execution_count": 163,
   "metadata": {},
   "outputs": [
    {
     "data": {
      "text/plain": [
       "2"
      ]
     },
     "execution_count": 163,
     "metadata": {},
     "output_type": "execute_result"
    }
   ],
   "source": [
    "# Dimension\n",
    "\n",
    "setOriginal.ndim"
   ]
  },
  {
   "cell_type": "code",
   "execution_count": 164,
   "metadata": {},
   "outputs": [
    {
     "data": {
      "text/plain": [
       "(1460, 6)"
      ]
     },
     "execution_count": 164,
     "metadata": {},
     "output_type": "execute_result"
    }
   ],
   "source": [
    "# Shape del DataSet\n",
    "\n",
    "setOriginal.shape"
   ]
  },
  {
   "cell_type": "code",
   "execution_count": 165,
   "metadata": {},
   "outputs": [
    {
     "data": {
      "text/plain": [
       "1460"
      ]
     },
     "execution_count": 165,
     "metadata": {},
     "output_type": "execute_result"
    }
   ],
   "source": [
    "# Length del array\n",
    "\n",
    "lentotal = len(setOriginal)\n",
    "\n",
    "lentotal"
   ]
  },
  {
   "cell_type": "code",
   "execution_count": 166,
   "metadata": {},
   "outputs": [
    {
     "name": "stdout",
     "output_type": "stream",
     "text": [
      "La longitud del set de entrenamiento es de: 1168 equivalente al 80.0%\n",
      "\n",
      "La longitud del set de validacion es de: 292 equivalente al 20.0%\n"
     ]
    }
   ],
   "source": [
    "# Slicing Set Original en 80% Entrenamiento y 20% Validacion\n",
    "\n",
    "entrenamiento, validacion = np.split(setOriginal,[int(len(setOriginal)*0.8)])\n",
    "\n",
    "print(f'La longitud del set de entrenamiento es de: {len(entrenamiento)} equivalente al {(len(entrenamiento)/lentotal)*100}%\\n')\n",
    "\n",
    "print(f'La longitud del set de validacion es de: {len(validacion)} equivalente al {(len(validacion)/lentotal)*100}%')"
   ]
  },
  {
   "cell_type": "markdown",
   "metadata": {},
   "source": [
    "---"
   ]
  },
  {
   "cell_type": "markdown",
   "metadata": {},
   "source": [
    "![title](paso3.png)"
   ]
  },
  {
   "attachments": {},
   "cell_type": "markdown",
   "metadata": {},
   "source": [
    "### Información sobre el set de datos\n",
    "\n",
    "El dataset contiene una variable dependiente y cinco variables independientes.\n",
    "\n",
    "- Y = El valor de la propiedad en venta en $\n",
    "\n",
    "- X1 = Calidad en general de la vivienda\n",
    "\n",
    "\n",
    "|Nota|Descripción|\n",
    "|---|--------|\n",
    "|10|Very Excellent|\n",
    "|9|\tExcellent|\n",
    "|8|\tVery Good|\n",
    "|7|\tGood|\n",
    "|6|\tAbove Average|\n",
    "|5|\tAverage|\n",
    "|4|\tBelow Average|\n",
    "|3|\tFair|\n",
    "|2|\tPoor|\n",
    "|1|\tVery Poor|\n",
    "\n",
    "- X2 = 1stFlrSF, pies cuadrados primer nivel\n",
    "\n",
    "- X3 = TotRmsAbvGrd, total de cuartos\n",
    "\n",
    "- X4 = YearBuilt: Fecha de construcción original\n",
    "\n",
    "- X5 = LotFrontage, pies lineales de calle\n",
    "\n"
   ]
  },
  {
   "cell_type": "code",
   "execution_count": 229,
   "metadata": {},
   "outputs": [],
   "source": [
    "# Para cada variable en el dataset calcular (media, valor máximo, valor mínimo, rango desviación estándar)"
   ]
  },
  {
   "cell_type": "markdown",
   "metadata": {},
   "source": [
    "### Para el análisis exploratorio se utilizará Pandas."
   ]
  },
  {
   "cell_type": "code",
   "execution_count": 231,
   "metadata": {},
   "outputs": [
    {
     "data": {
      "text/plain": [
       "Y     180590.277397\n",
       "X1         6.101027\n",
       "X2      1156.323630\n",
       "X3         6.485445\n",
       "X4      1971.451199\n",
       "X5        69.946985\n",
       "dtype: float64"
      ]
     },
     "execution_count": 231,
     "metadata": {},
     "output_type": "execute_result"
    }
   ],
   "source": [
    "df = pd.DataFrame(entrenamiento, columns=['Y','X1','X2','X3','X4','X5'])\n",
    "df.head()\n",
    "media = df.mean(axis=0)\n",
    "media"
   ]
  },
  {
   "cell_type": "code",
   "execution_count": 232,
   "metadata": {},
   "outputs": [
    {
     "name": "stdout",
     "output_type": "stream",
     "text": [
      "El set de datos contiene valores NaN: True\n"
     ]
    }
   ],
   "source": [
    "# Verificando si el set de datos contiene NaN\n",
    "\n",
    "print(f'El set de datos contiene valores NaN: {df.isnull().values.any()}')"
   ]
  },
  {
   "cell_type": "code",
   "execution_count": 233,
   "metadata": {},
   "outputs": [
    {
     "data": {
      "text/html": [
       "<div>\n",
       "<style scoped>\n",
       "    .dataframe tbody tr th:only-of-type {\n",
       "        vertical-align: middle;\n",
       "    }\n",
       "\n",
       "    .dataframe tbody tr th {\n",
       "        vertical-align: top;\n",
       "    }\n",
       "\n",
       "    .dataframe thead th {\n",
       "        text-align: right;\n",
       "    }\n",
       "</style>\n",
       "<table border=\"1\" class=\"dataframe\">\n",
       "  <thead>\n",
       "    <tr style=\"text-align: right;\">\n",
       "      <th></th>\n",
       "      <th>Y</th>\n",
       "      <th>X1</th>\n",
       "      <th>X2</th>\n",
       "      <th>X3</th>\n",
       "      <th>X4</th>\n",
       "      <th>X5</th>\n",
       "    </tr>\n",
       "  </thead>\n",
       "  <tbody>\n",
       "    <tr>\n",
       "      <th>0</th>\n",
       "      <td>208500.0</td>\n",
       "      <td>7.0</td>\n",
       "      <td>856.0</td>\n",
       "      <td>8.0</td>\n",
       "      <td>2003.0</td>\n",
       "      <td>65.0</td>\n",
       "    </tr>\n",
       "    <tr>\n",
       "      <th>1</th>\n",
       "      <td>181500.0</td>\n",
       "      <td>6.0</td>\n",
       "      <td>1262.0</td>\n",
       "      <td>6.0</td>\n",
       "      <td>1976.0</td>\n",
       "      <td>80.0</td>\n",
       "    </tr>\n",
       "    <tr>\n",
       "      <th>2</th>\n",
       "      <td>223500.0</td>\n",
       "      <td>7.0</td>\n",
       "      <td>920.0</td>\n",
       "      <td>6.0</td>\n",
       "      <td>2001.0</td>\n",
       "      <td>68.0</td>\n",
       "    </tr>\n",
       "    <tr>\n",
       "      <th>3</th>\n",
       "      <td>140000.0</td>\n",
       "      <td>7.0</td>\n",
       "      <td>961.0</td>\n",
       "      <td>7.0</td>\n",
       "      <td>1915.0</td>\n",
       "      <td>60.0</td>\n",
       "    </tr>\n",
       "    <tr>\n",
       "      <th>4</th>\n",
       "      <td>250000.0</td>\n",
       "      <td>8.0</td>\n",
       "      <td>1145.0</td>\n",
       "      <td>9.0</td>\n",
       "      <td>2000.0</td>\n",
       "      <td>84.0</td>\n",
       "    </tr>\n",
       "  </tbody>\n",
       "</table>\n",
       "</div>"
      ],
      "text/plain": [
       "          Y   X1      X2   X3      X4    X5\n",
       "0  208500.0  7.0   856.0  8.0  2003.0  65.0\n",
       "1  181500.0  6.0  1262.0  6.0  1976.0  80.0\n",
       "2  223500.0  7.0   920.0  6.0  2001.0  68.0\n",
       "3  140000.0  7.0   961.0  7.0  1915.0  60.0\n",
       "4  250000.0  8.0  1145.0  9.0  2000.0  84.0"
      ]
     },
     "execution_count": 233,
     "metadata": {},
     "output_type": "execute_result"
    }
   ],
   "source": [
    "# Eliminando las filas que contengan NaN\n",
    "\n",
    "df = df.dropna()\n",
    "df.head()\n"
   ]
  },
  {
   "cell_type": "markdown",
   "metadata": {},
   "source": [
    "### Generación de resumen de estadísticos para cada variable por medio de una función"
   ]
  },
  {
   "cell_type": "code",
   "execution_count": 180,
   "metadata": {},
   "outputs": [
    {
     "name": "stdout",
     "output_type": "stream",
     "text": [
      "Estadisticos de: A\n",
      "\n",
      "La media es: 180994.2464\n",
      "El valor maximo es: 755000.0\n",
      "El valor minimo es: 34900.0\n",
      "El rango es: 720100.0\n",
      "La desviacion estandar es: 83331.2669\n",
      "\n",
      "---------------------------------------------------------\n",
      "Estadisticos de: B\n",
      "\n",
      "La media es: 6.1247\n",
      "El valor maximo es: 10.0\n",
      "El valor minimo es: 1.0\n",
      "El rango es: 9.0\n",
      "La desviacion estandar es: 1.4183\n",
      "\n",
      "---------------------------------------------------------\n",
      "Estadisticos de: C\n",
      "\n",
      "La media es: 1155.6289\n",
      "El valor maximo es: 3138.0\n",
      "El valor minimo es: 334.0\n",
      "El rango es: 2804.0\n",
      "La desviacion estandar es: 372.5885\n",
      "\n",
      "---------------------------------------------------------\n",
      "Estadisticos de: D\n",
      "\n",
      "La media es: 6.499\n",
      "El valor maximo es: 14.0\n",
      "El valor minimo es: 2.0\n",
      "El rango es: 12.0\n",
      "La desviacion estandar es: 1.6182\n",
      "\n",
      "---------------------------------------------------------\n",
      "Estadisticos de: E\n",
      "\n",
      "La media es: 1970.6663\n",
      "El valor maximo es: 2010.0\n",
      "El valor minimo es: 1875.0\n",
      "El rango es: 135.0\n",
      "La desviacion estandar es: 31.543\n",
      "\n",
      "---------------------------------------------------------\n",
      "Estadisticos de: F\n",
      "\n",
      "La media es: 69.947\n",
      "El valor maximo es: 313.0\n",
      "El valor minimo es: 21.0\n",
      "El rango es: 292.0\n",
      "La desviacion estandar es: 23.4782\n",
      "\n",
      "---------------------------------------------------------\n"
     ]
    }
   ],
   "source": [
    "def estadisticos(x):\n",
    "\n",
    "    for column in df:\n",
    "\n",
    "        print(f'Estadisticos de: {column}\\n')\n",
    "        print(f'La media es: {round(df[column].mean(),4)}')\n",
    "        print(f'El valor maximo es: {df[column].max()}')\n",
    "        print(f'El valor minimo es: {df[column].min()}')\n",
    "        print(f'El rango es: {df[column].max()-df[column].min()}')\n",
    "        print(f'La desviacion estandar es: {round(df[column].std(),4)}\\n')\n",
    "        print('---------------------------------------------------------')\n",
    "    \n",
    "estadisticos(df)\n",
    "    "
   ]
  },
  {
   "cell_type": "markdown",
   "metadata": {},
   "source": [
    "---"
   ]
  },
  {
   "cell_type": "markdown",
   "metadata": {},
   "source": [
    "![title](paso4.png)"
   ]
  },
  {
   "cell_type": "code",
   "execution_count": 234,
   "metadata": {},
   "outputs": [
    {
     "data": {
      "image/png": "[encoded data removed]",
      "text/plain": [
       "<Figure size 1152x1080 with 6 Axes>"
      ]
     },
     "metadata": {},
     "output_type": "display_data"
    }
   ],
   "source": [
    "\n",
    "a, b, c = 3, 3, 1\n",
    "\n",
    "fig = plt.figure(figsize=(16,15))\n",
    "\n",
    "sns.set_style(\"darkgrid\")\n",
    "\n",
    "for i in df:\n",
    "    plt.subplot(a,b,c)\n",
    "    plt.title(f'Histograma de: {i}')\n",
    "    sns.distplot(df[i])\n",
    "    c = c+1\n",
    "\n",
    "plt.show()"
   ]
  },
  {
   "cell_type": "markdown",
   "metadata": {},
   "source": [
    "---"
   ]
  },
  {
   "cell_type": "markdown",
   "metadata": {},
   "source": [
    "![title](paso5.png)"
   ]
  },
  {
   "cell_type": "code",
   "execution_count": 217,
   "metadata": {},
   "outputs": [],
   "source": [
    "test = df['A']\n",
    "test2 = df['B']"
   ]
  },
  {
   "cell_type": "code",
   "execution_count": 218,
   "metadata": {},
   "outputs": [
    {
     "data": {
      "text/plain": [
       "0.8086589371846093"
      ]
     },
     "execution_count": 218,
     "metadata": {},
     "output_type": "execute_result"
    }
   ],
   "source": [
    "test.corr(test2)"
   ]
  },
  {
   "cell_type": "code",
   "execution_count": 219,
   "metadata": {},
   "outputs": [
    {
     "data": {
      "text/plain": [
       "0.8086589371846095"
      ]
     },
     "execution_count": 219,
     "metadata": {},
     "output_type": "execute_result"
    }
   ],
   "source": [
    "test2.corr(test)"
   ]
  },
  {
   "cell_type": "code",
   "execution_count": 226,
   "metadata": {},
   "outputs": [
    {
     "name": "stdout",
     "output_type": "stream",
     "text": [
      "0.8086589371846093\n",
      "0.6401417047717455\n",
      "0.5748658135586456\n",
      "0.5483005074396333\n",
      "0.363291616653892\n"
     ]
    }
   ],
   "source": [
    "vardep = df['A']\n",
    "\n",
    "for i in df.columns[1:]:\n",
    "    varind = df[i]\n",
    "    corre = vardep.corr(varind)\n",
    "    print(corre)"
   ]
  },
  {
   "cell_type": "markdown",
   "metadata": {},
   "source": [
    "---"
   ]
  },
  {
   "cell_type": "markdown",
   "metadata": {},
   "source": [
    "![title](paso6.png)"
   ]
  },
  {
   "cell_type": "code",
   "execution_count": null,
   "metadata": {},
   "outputs": [],
   "source": []
  }
 ],
 "metadata": {
  "kernelspec": {
   "display_name": "Python 3",
   "language": "python",
   "name": "python3"
  },
  "language_info": {
   "codemirror_mode": {
    "name": "ipython",
    "version": 3
   },
   "file_extension": ".py",
   "mimetype": "text/x-python",
   "name": "python",
   "nbconvert_exporter": "python",
   "pygments_lexer": "ipython3",
   "version": "3.8.3"
  }
 },
 "nbformat": 4,
 "nbformat_minor": 4
}
